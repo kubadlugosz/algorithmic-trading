{
 "cells": [
  {
   "cell_type": "markdown",
   "metadata": {},
   "source": [
    "### Long-only trading strategy"
   ]
  },
  {
   "cell_type": "code",
   "execution_count": 2,
   "metadata": {},
   "outputs": [],
   "source": [
    "import pandas as pd \n",
    "import numpy as np \n",
    "import matplotlib.pyplot as plt"
   ]
  },
  {
   "cell_type": "code",
   "execution_count": 3,
   "metadata": {},
   "outputs": [
    {
     "data": {
      "text/html": [
       "<div>\n",
       "<style scoped>\n",
       "    .dataframe tbody tr th:only-of-type {\n",
       "        vertical-align: middle;\n",
       "    }\n",
       "\n",
       "    .dataframe tbody tr th {\n",
       "        vertical-align: top;\n",
       "    }\n",
       "\n",
       "    .dataframe thead th {\n",
       "        text-align: right;\n",
       "    }\n",
       "</style>\n",
       "<table border=\"1\" class=\"dataframe\">\n",
       "  <thead>\n",
       "    <tr style=\"text-align: right;\">\n",
       "      <th></th>\n",
       "      <th>Open</th>\n",
       "      <th>High</th>\n",
       "      <th>Low</th>\n",
       "      <th>Close</th>\n",
       "      <th>Volume</th>\n",
       "    </tr>\n",
       "    <tr>\n",
       "      <th>Date</th>\n",
       "      <th></th>\n",
       "      <th></th>\n",
       "      <th></th>\n",
       "      <th></th>\n",
       "      <th></th>\n",
       "    </tr>\n",
       "  </thead>\n",
       "  <tbody>\n",
       "    <tr>\n",
       "      <th>2017-08-17 04:00:00</th>\n",
       "      <td>4261.48</td>\n",
       "      <td>4313.62</td>\n",
       "      <td>4261.32</td>\n",
       "      <td>4308.83</td>\n",
       "      <td>47.181009</td>\n",
       "    </tr>\n",
       "    <tr>\n",
       "      <th>2017-08-17 05:00:00</th>\n",
       "      <td>4308.83</td>\n",
       "      <td>4328.69</td>\n",
       "      <td>4291.37</td>\n",
       "      <td>4315.32</td>\n",
       "      <td>23.234916</td>\n",
       "    </tr>\n",
       "    <tr>\n",
       "      <th>2017-08-17 06:00:00</th>\n",
       "      <td>4330.29</td>\n",
       "      <td>4345.45</td>\n",
       "      <td>4309.37</td>\n",
       "      <td>4324.35</td>\n",
       "      <td>7.229691</td>\n",
       "    </tr>\n",
       "    <tr>\n",
       "      <th>2017-08-17 07:00:00</th>\n",
       "      <td>4316.62</td>\n",
       "      <td>4349.99</td>\n",
       "      <td>4287.41</td>\n",
       "      <td>4349.99</td>\n",
       "      <td>4.443249</td>\n",
       "    </tr>\n",
       "    <tr>\n",
       "      <th>2017-08-17 08:00:00</th>\n",
       "      <td>4333.32</td>\n",
       "      <td>4377.85</td>\n",
       "      <td>4333.32</td>\n",
       "      <td>4360.69</td>\n",
       "      <td>0.972807</td>\n",
       "    </tr>\n",
       "    <tr>\n",
       "      <th>...</th>\n",
       "      <td>...</td>\n",
       "      <td>...</td>\n",
       "      <td>...</td>\n",
       "      <td>...</td>\n",
       "      <td>...</td>\n",
       "    </tr>\n",
       "    <tr>\n",
       "      <th>2021-10-07 05:00:00</th>\n",
       "      <td>55073.20</td>\n",
       "      <td>55073.21</td>\n",
       "      <td>54545.07</td>\n",
       "      <td>54735.76</td>\n",
       "      <td>2251.122020</td>\n",
       "    </tr>\n",
       "    <tr>\n",
       "      <th>2021-10-07 06:00:00</th>\n",
       "      <td>54735.77</td>\n",
       "      <td>54968.06</td>\n",
       "      <td>54375.83</td>\n",
       "      <td>54534.16</td>\n",
       "      <td>1783.004260</td>\n",
       "    </tr>\n",
       "    <tr>\n",
       "      <th>2021-10-07 07:00:00</th>\n",
       "      <td>54534.16</td>\n",
       "      <td>54793.26</td>\n",
       "      <td>54235.33</td>\n",
       "      <td>54755.92</td>\n",
       "      <td>4163.431360</td>\n",
       "    </tr>\n",
       "    <tr>\n",
       "      <th>2021-10-07 08:00:00</th>\n",
       "      <td>54755.91</td>\n",
       "      <td>54778.91</td>\n",
       "      <td>54400.00</td>\n",
       "      <td>54538.30</td>\n",
       "      <td>2049.382180</td>\n",
       "    </tr>\n",
       "    <tr>\n",
       "      <th>2021-10-07 09:00:00</th>\n",
       "      <td>54538.31</td>\n",
       "      <td>54547.30</td>\n",
       "      <td>53786.13</td>\n",
       "      <td>53995.50</td>\n",
       "      <td>2739.153610</td>\n",
       "    </tr>\n",
       "  </tbody>\n",
       "</table>\n",
       "<p>36168 rows × 5 columns</p>\n",
       "</div>"
      ],
      "text/plain": [
       "                         Open      High       Low     Close       Volume\n",
       "Date                                                                    \n",
       "2017-08-17 04:00:00   4261.48   4313.62   4261.32   4308.83    47.181009\n",
       "2017-08-17 05:00:00   4308.83   4328.69   4291.37   4315.32    23.234916\n",
       "2017-08-17 06:00:00   4330.29   4345.45   4309.37   4324.35     7.229691\n",
       "2017-08-17 07:00:00   4316.62   4349.99   4287.41   4349.99     4.443249\n",
       "2017-08-17 08:00:00   4333.32   4377.85   4333.32   4360.69     0.972807\n",
       "...                       ...       ...       ...       ...          ...\n",
       "2021-10-07 05:00:00  55073.20  55073.21  54545.07  54735.76  2251.122020\n",
       "2021-10-07 06:00:00  54735.77  54968.06  54375.83  54534.16  1783.004260\n",
       "2021-10-07 07:00:00  54534.16  54793.26  54235.33  54755.92  4163.431360\n",
       "2021-10-07 08:00:00  54755.91  54778.91  54400.00  54538.30  2049.382180\n",
       "2021-10-07 09:00:00  54538.31  54547.30  53786.13  53995.50  2739.153610\n",
       "\n",
       "[36168 rows x 5 columns]"
      ]
     },
     "execution_count": 3,
     "metadata": {},
     "output_type": "execute_result"
    }
   ],
   "source": [
    "data = pd.read_csv('bitcoin.csv',parse_dates=['Date'],index_col='Date')\n",
    "data"
   ]
  },
  {
   "cell_type": "code",
   "execution_count": 4,
   "metadata": {},
   "outputs": [
    {
     "name": "stdout",
     "output_type": "stream",
     "text": [
      "<class 'pandas.core.frame.DataFrame'>\n",
      "DatetimeIndex: 36168 entries, 2017-08-17 04:00:00 to 2021-10-07 09:00:00\n",
      "Data columns (total 5 columns):\n",
      " #   Column  Non-Null Count  Dtype  \n",
      "---  ------  --------------  -----  \n",
      " 0   Open    36168 non-null  float64\n",
      " 1   High    36168 non-null  float64\n",
      " 2   Low     36168 non-null  float64\n",
      " 3   Close   36168 non-null  float64\n",
      " 4   Volume  36168 non-null  float64\n",
      "dtypes: float64(5)\n",
      "memory usage: 1.7 MB\n"
     ]
    }
   ],
   "source": [
    "data.info()"
   ]
  },
  {
   "cell_type": "code",
   "execution_count": 5,
   "metadata": {},
   "outputs": [
    {
     "data": {
      "text/plain": [
       "<AxesSubplot:xlabel='Date'>"
      ]
     },
     "execution_count": 5,
     "metadata": {},
     "output_type": "execute_result"
    },
    {
     "data": {
      "image/png": "[encoded data removed]",
      "text/plain": [
       "<Figure size 432x288 with 1 Axes>"
      ]
     },
     "metadata": {
      "needs_background": "light"
     },
     "output_type": "display_data"
    }
   ],
   "source": [
    "data.Close.plot() "
   ]
  },
  {
   "cell_type": "code",
   "execution_count": 6,
   "metadata": {},
   "outputs": [],
   "source": [
    "data['returns'] = np.log(data.Close.div(data.Close.shift(1)))"
   ]
  },
  {
   "cell_type": "code",
   "execution_count": 7,
   "metadata": {},
   "outputs": [
    {
     "data": {
      "text/plain": [
       "<AxesSubplot:xlabel='Date'>"
      ]
     },
     "execution_count": 7,
     "metadata": {},
     "output_type": "execute_result"
    },
    {
     "data": {
      "image/png": "[encoded data removed]",
      "text/plain": [
       "<Figure size 432x288 with 1 Axes>"
      ]
     },
     "metadata": {
      "needs_background": "light"
     },
     "output_type": "display_data"
    }
   ],
   "source": [
    "data.Volume.plot() "
   ]
  },
  {
   "cell_type": "code",
   "execution_count": 8,
   "metadata": {},
   "outputs": [
    {
     "data": {
      "text/plain": [
       "<AxesSubplot:ylabel='Frequency'>"
      ]
     },
     "execution_count": 8,
     "metadata": {},
     "output_type": "execute_result"
    },
    {
     "data": {
      "image/png": "[encoded data removed]",
      "text/plain": [
       "<Figure size 432x288 with 1 Axes>"
      ]
     },
     "metadata": {
      "needs_background": "light"
     },
     "output_type": "display_data"
    }
   ],
   "source": [
    "data.returns.plot(kind='hist')"
   ]
  },
  {
   "cell_type": "markdown",
   "metadata": {},
   "source": [
    "## Buy and Hold Strategy"
   ]
  },
  {
   "cell_type": "code",
   "execution_count": 9,
   "metadata": {},
   "outputs": [
    {
     "data": {
      "text/plain": [
       "Date\n",
       "2017-08-17 04:00:00     1.000000\n",
       "2017-08-17 05:00:00     1.001506\n",
       "2017-08-17 06:00:00     1.003602\n",
       "2017-08-17 07:00:00     1.009552\n",
       "2017-08-17 08:00:00     1.012036\n",
       "                         ...    \n",
       "2021-10-07 05:00:00    12.703161\n",
       "2021-10-07 06:00:00    12.656373\n",
       "2021-10-07 07:00:00    12.707839\n",
       "2021-10-07 08:00:00    12.657334\n",
       "2021-10-07 09:00:00    12.531360\n",
       "Name: Close, Length: 36168, dtype: float64"
      ]
     },
     "execution_count": 9,
     "metadata": {},
     "output_type": "execute_result"
    }
   ],
   "source": [
    "data.Close/data.Close[0]"
   ]
  },
  {
   "cell_type": "code",
   "execution_count": 10,
   "metadata": {},
   "outputs": [],
   "source": [
    "multiple = np.exp(data.returns.sum())"
   ]
  },
  {
   "cell_type": "code",
   "execution_count": 11,
   "metadata": {},
   "outputs": [],
   "source": [
    "data['creturns'] = data.returns.cumsum().apply(np.exp)"
   ]
  },
  {
   "cell_type": "code",
   "execution_count": 12,
   "metadata": {},
   "outputs": [
    {
     "data": {
      "text/html": [
       "<div>\n",
       "<style scoped>\n",
       "    .dataframe tbody tr th:only-of-type {\n",
       "        vertical-align: middle;\n",
       "    }\n",
       "\n",
       "    .dataframe tbody tr th {\n",
       "        vertical-align: top;\n",
       "    }\n",
       "\n",
       "    .dataframe thead th {\n",
       "        text-align: right;\n",
       "    }\n",
       "</style>\n",
       "<table border=\"1\" class=\"dataframe\">\n",
       "  <thead>\n",
       "    <tr style=\"text-align: right;\">\n",
       "      <th></th>\n",
       "      <th>Open</th>\n",
       "      <th>High</th>\n",
       "      <th>Low</th>\n",
       "      <th>Close</th>\n",
       "      <th>Volume</th>\n",
       "      <th>returns</th>\n",
       "      <th>creturns</th>\n",
       "    </tr>\n",
       "    <tr>\n",
       "      <th>Date</th>\n",
       "      <th></th>\n",
       "      <th></th>\n",
       "      <th></th>\n",
       "      <th></th>\n",
       "      <th></th>\n",
       "      <th></th>\n",
       "      <th></th>\n",
       "    </tr>\n",
       "  </thead>\n",
       "  <tbody>\n",
       "    <tr>\n",
       "      <th>2017-08-17 04:00:00</th>\n",
       "      <td>4261.48</td>\n",
       "      <td>4313.62</td>\n",
       "      <td>4261.32</td>\n",
       "      <td>4308.83</td>\n",
       "      <td>47.181009</td>\n",
       "      <td>NaN</td>\n",
       "      <td>NaN</td>\n",
       "    </tr>\n",
       "    <tr>\n",
       "      <th>2017-08-17 05:00:00</th>\n",
       "      <td>4308.83</td>\n",
       "      <td>4328.69</td>\n",
       "      <td>4291.37</td>\n",
       "      <td>4315.32</td>\n",
       "      <td>23.234916</td>\n",
       "      <td>0.001505</td>\n",
       "      <td>1.001506</td>\n",
       "    </tr>\n",
       "    <tr>\n",
       "      <th>2017-08-17 06:00:00</th>\n",
       "      <td>4330.29</td>\n",
       "      <td>4345.45</td>\n",
       "      <td>4309.37</td>\n",
       "      <td>4324.35</td>\n",
       "      <td>7.229691</td>\n",
       "      <td>0.002090</td>\n",
       "      <td>1.003602</td>\n",
       "    </tr>\n",
       "    <tr>\n",
       "      <th>2017-08-17 07:00:00</th>\n",
       "      <td>4316.62</td>\n",
       "      <td>4349.99</td>\n",
       "      <td>4287.41</td>\n",
       "      <td>4349.99</td>\n",
       "      <td>4.443249</td>\n",
       "      <td>0.005912</td>\n",
       "      <td>1.009552</td>\n",
       "    </tr>\n",
       "    <tr>\n",
       "      <th>2017-08-17 08:00:00</th>\n",
       "      <td>4333.32</td>\n",
       "      <td>4377.85</td>\n",
       "      <td>4333.32</td>\n",
       "      <td>4360.69</td>\n",
       "      <td>0.972807</td>\n",
       "      <td>0.002457</td>\n",
       "      <td>1.012036</td>\n",
       "    </tr>\n",
       "    <tr>\n",
       "      <th>...</th>\n",
       "      <td>...</td>\n",
       "      <td>...</td>\n",
       "      <td>...</td>\n",
       "      <td>...</td>\n",
       "      <td>...</td>\n",
       "      <td>...</td>\n",
       "      <td>...</td>\n",
       "    </tr>\n",
       "    <tr>\n",
       "      <th>2021-10-07 05:00:00</th>\n",
       "      <td>55073.20</td>\n",
       "      <td>55073.21</td>\n",
       "      <td>54545.07</td>\n",
       "      <td>54735.76</td>\n",
       "      <td>2251.122020</td>\n",
       "      <td>-0.006146</td>\n",
       "      <td>12.703161</td>\n",
       "    </tr>\n",
       "    <tr>\n",
       "      <th>2021-10-07 06:00:00</th>\n",
       "      <td>54735.77</td>\n",
       "      <td>54968.06</td>\n",
       "      <td>54375.83</td>\n",
       "      <td>54534.16</td>\n",
       "      <td>1783.004260</td>\n",
       "      <td>-0.003690</td>\n",
       "      <td>12.656373</td>\n",
       "    </tr>\n",
       "    <tr>\n",
       "      <th>2021-10-07 07:00:00</th>\n",
       "      <td>54534.16</td>\n",
       "      <td>54793.26</td>\n",
       "      <td>54235.33</td>\n",
       "      <td>54755.92</td>\n",
       "      <td>4163.431360</td>\n",
       "      <td>0.004058</td>\n",
       "      <td>12.707839</td>\n",
       "    </tr>\n",
       "    <tr>\n",
       "      <th>2021-10-07 08:00:00</th>\n",
       "      <td>54755.91</td>\n",
       "      <td>54778.91</td>\n",
       "      <td>54400.00</td>\n",
       "      <td>54538.30</td>\n",
       "      <td>2049.382180</td>\n",
       "      <td>-0.003982</td>\n",
       "      <td>12.657334</td>\n",
       "    </tr>\n",
       "    <tr>\n",
       "      <th>2021-10-07 09:00:00</th>\n",
       "      <td>54538.31</td>\n",
       "      <td>54547.30</td>\n",
       "      <td>53786.13</td>\n",
       "      <td>53995.50</td>\n",
       "      <td>2739.153610</td>\n",
       "      <td>-0.010002</td>\n",
       "      <td>12.531360</td>\n",
       "    </tr>\n",
       "  </tbody>\n",
       "</table>\n",
       "<p>36168 rows × 7 columns</p>\n",
       "</div>"
      ],
      "text/plain": [
       "                         Open      High       Low     Close       Volume  \\\n",
       "Date                                                                       \n",
       "2017-08-17 04:00:00   4261.48   4313.62   4261.32   4308.83    47.181009   \n",
       "2017-08-17 05:00:00   4308.83   4328.69   4291.37   4315.32    23.234916   \n",
       "2017-08-17 06:00:00   4330.29   4345.45   4309.37   4324.35     7.229691   \n",
       "2017-08-17 07:00:00   4316.62   4349.99   4287.41   4349.99     4.443249   \n",
       "2017-08-17 08:00:00   4333.32   4377.85   4333.32   4360.69     0.972807   \n",
       "...                       ...       ...       ...       ...          ...   \n",
       "2021-10-07 05:00:00  55073.20  55073.21  54545.07  54735.76  2251.122020   \n",
       "2021-10-07 06:00:00  54735.77  54968.06  54375.83  54534.16  1783.004260   \n",
       "2021-10-07 07:00:00  54534.16  54793.26  54235.33  54755.92  4163.431360   \n",
       "2021-10-07 08:00:00  54755.91  54778.91  54400.00  54538.30  2049.382180   \n",
       "2021-10-07 09:00:00  54538.31  54547.30  53786.13  53995.50  2739.153610   \n",
       "\n",
       "                      returns   creturns  \n",
       "Date                                      \n",
       "2017-08-17 04:00:00       NaN        NaN  \n",
       "2017-08-17 05:00:00  0.001505   1.001506  \n",
       "2017-08-17 06:00:00  0.002090   1.003602  \n",
       "2017-08-17 07:00:00  0.005912   1.009552  \n",
       "2017-08-17 08:00:00  0.002457   1.012036  \n",
       "...                       ...        ...  \n",
       "2021-10-07 05:00:00 -0.006146  12.703161  \n",
       "2021-10-07 06:00:00 -0.003690  12.656373  \n",
       "2021-10-07 07:00:00  0.004058  12.707839  \n",
       "2021-10-07 08:00:00 -0.003982  12.657334  \n",
       "2021-10-07 09:00:00 -0.010002  12.531360  \n",
       "\n",
       "[36168 rows x 7 columns]"
      ]
     },
     "execution_count": 12,
     "metadata": {},
     "output_type": "execute_result"
    }
   ],
   "source": [
    "data"
   ]
  },
  {
   "cell_type": "code",
   "execution_count": 13,
   "metadata": {},
   "outputs": [
    {
     "data": {
      "text/plain": [
       "<AxesSubplot:xlabel='Date'>"
      ]
     },
     "execution_count": 13,
     "metadata": {},
     "output_type": "execute_result"
    },
    {
     "data": {
      "image/png": "[encoded data removed]",
      "text/plain": [
       "<Figure size 432x288 with 1 Axes>"
      ]
     },
     "metadata": {
      "needs_background": "light"
     },
     "output_type": "display_data"
    }
   ],
   "source": [
    "data.creturns.plot()"
   ]
  },
  {
   "cell_type": "markdown",
   "metadata": {},
   "source": [
    "### Performance Metrics"
   ]
  },
  {
   "cell_type": "code",
   "execution_count": 14,
   "metadata": {},
   "outputs": [
    {
     "data": {
      "text/plain": [
       "6.990445168834005e-05"
      ]
     },
     "execution_count": 14,
     "metadata": {},
     "output_type": "execute_result"
    }
   ],
   "source": [
    "mu = data.returns.mean() \n",
    "mu"
   ]
  },
  {
   "cell_type": "code",
   "execution_count": 15,
   "metadata": {},
   "outputs": [
    {
     "data": {
      "text/plain": [
       "0.009669001511177772"
      ]
     },
     "execution_count": 15,
     "metadata": {},
     "output_type": "execute_result"
    }
   ],
   "source": [
    "sigma=data.returns.std()\n",
    "sigma "
   ]
  },
  {
   "cell_type": "code",
   "execution_count": 16,
   "metadata": {},
   "outputs": [],
   "source": [
    "number_of_periods = 24*365.25"
   ]
  },
  {
   "cell_type": "code",
   "execution_count": 17,
   "metadata": {},
   "outputs": [
    {
     "data": {
      "text/plain": [
       "0.6127824234999889"
      ]
     },
     "execution_count": 17,
     "metadata": {},
     "output_type": "execute_result"
    }
   ],
   "source": [
    "ann_mean = mu *number_of_periods\n",
    "ann_mean"
   ]
  },
  {
   "cell_type": "code",
   "execution_count": 18,
   "metadata": {},
   "outputs": [
    {
     "data": {
      "text/plain": [
       "0.9052788232893794"
      ]
     },
     "execution_count": 18,
     "metadata": {},
     "output_type": "execute_result"
    }
   ],
   "source": [
    "ann_std = sigma *np.sqrt(number_of_periods)\n",
    "ann_std"
   ]
  },
  {
   "cell_type": "code",
   "execution_count": 19,
   "metadata": {},
   "outputs": [
    {
     "data": {
      "text/plain": [
       "0.845559389167847"
      ]
     },
     "execution_count": 19,
     "metadata": {},
     "output_type": "execute_result"
    }
   ],
   "source": [
    "cagr = np.exp(ann_mean)-1\n",
    "cagr"
   ]
  },
  {
   "cell_type": "code",
   "execution_count": 20,
   "metadata": {},
   "outputs": [
    {
     "data": {
      "text/plain": [
       "0.6768991030557977"
      ]
     },
     "execution_count": 20,
     "metadata": {},
     "output_type": "execute_result"
    }
   ],
   "source": [
    "#sharpe ratio\n",
    "ann_mean/ann_std"
   ]
  },
  {
   "cell_type": "code",
   "execution_count": 21,
   "metadata": {},
   "outputs": [
    {
     "data": {
      "text/plain": [
       "0.9340319992192697"
      ]
     },
     "execution_count": 21,
     "metadata": {},
     "output_type": "execute_result"
    }
   ],
   "source": [
    "cagr/ann_std"
   ]
  },
  {
   "cell_type": "markdown",
   "metadata": {},
   "source": [
    "### Long only trading strategy"
   ]
  },
  {
   "cell_type": "code",
   "execution_count": 22,
   "metadata": {},
   "outputs": [
    {
     "data": {
      "text/html": [
       "<div>\n",
       "<style scoped>\n",
       "    .dataframe tbody tr th:only-of-type {\n",
       "        vertical-align: middle;\n",
       "    }\n",
       "\n",
       "    .dataframe tbody tr th {\n",
       "        vertical-align: top;\n",
       "    }\n",
       "\n",
       "    .dataframe thead th {\n",
       "        text-align: right;\n",
       "    }\n",
       "</style>\n",
       "<table border=\"1\" class=\"dataframe\">\n",
       "  <thead>\n",
       "    <tr style=\"text-align: right;\">\n",
       "      <th></th>\n",
       "      <th>Open</th>\n",
       "      <th>High</th>\n",
       "      <th>Low</th>\n",
       "      <th>Close</th>\n",
       "      <th>Volume</th>\n",
       "      <th>returns</th>\n",
       "      <th>creturns</th>\n",
       "    </tr>\n",
       "    <tr>\n",
       "      <th>Date</th>\n",
       "      <th></th>\n",
       "      <th></th>\n",
       "      <th></th>\n",
       "      <th></th>\n",
       "      <th></th>\n",
       "      <th></th>\n",
       "      <th></th>\n",
       "    </tr>\n",
       "  </thead>\n",
       "  <tbody>\n",
       "    <tr>\n",
       "      <th>2017-08-17 04:00:00</th>\n",
       "      <td>4261.48</td>\n",
       "      <td>4313.62</td>\n",
       "      <td>4261.32</td>\n",
       "      <td>4308.83</td>\n",
       "      <td>47.181009</td>\n",
       "      <td>NaN</td>\n",
       "      <td>NaN</td>\n",
       "    </tr>\n",
       "    <tr>\n",
       "      <th>2017-08-17 05:00:00</th>\n",
       "      <td>4308.83</td>\n",
       "      <td>4328.69</td>\n",
       "      <td>4291.37</td>\n",
       "      <td>4315.32</td>\n",
       "      <td>23.234916</td>\n",
       "      <td>0.001505</td>\n",
       "      <td>1.001506</td>\n",
       "    </tr>\n",
       "    <tr>\n",
       "      <th>2017-08-17 06:00:00</th>\n",
       "      <td>4330.29</td>\n",
       "      <td>4345.45</td>\n",
       "      <td>4309.37</td>\n",
       "      <td>4324.35</td>\n",
       "      <td>7.229691</td>\n",
       "      <td>0.002090</td>\n",
       "      <td>1.003602</td>\n",
       "    </tr>\n",
       "    <tr>\n",
       "      <th>2017-08-17 07:00:00</th>\n",
       "      <td>4316.62</td>\n",
       "      <td>4349.99</td>\n",
       "      <td>4287.41</td>\n",
       "      <td>4349.99</td>\n",
       "      <td>4.443249</td>\n",
       "      <td>0.005912</td>\n",
       "      <td>1.009552</td>\n",
       "    </tr>\n",
       "    <tr>\n",
       "      <th>2017-08-17 08:00:00</th>\n",
       "      <td>4333.32</td>\n",
       "      <td>4377.85</td>\n",
       "      <td>4333.32</td>\n",
       "      <td>4360.69</td>\n",
       "      <td>0.972807</td>\n",
       "      <td>0.002457</td>\n",
       "      <td>1.012036</td>\n",
       "    </tr>\n",
       "    <tr>\n",
       "      <th>...</th>\n",
       "      <td>...</td>\n",
       "      <td>...</td>\n",
       "      <td>...</td>\n",
       "      <td>...</td>\n",
       "      <td>...</td>\n",
       "      <td>...</td>\n",
       "      <td>...</td>\n",
       "    </tr>\n",
       "    <tr>\n",
       "      <th>2021-10-07 05:00:00</th>\n",
       "      <td>55073.20</td>\n",
       "      <td>55073.21</td>\n",
       "      <td>54545.07</td>\n",
       "      <td>54735.76</td>\n",
       "      <td>2251.122020</td>\n",
       "      <td>-0.006146</td>\n",
       "      <td>12.703161</td>\n",
       "    </tr>\n",
       "    <tr>\n",
       "      <th>2021-10-07 06:00:00</th>\n",
       "      <td>54735.77</td>\n",
       "      <td>54968.06</td>\n",
       "      <td>54375.83</td>\n",
       "      <td>54534.16</td>\n",
       "      <td>1783.004260</td>\n",
       "      <td>-0.003690</td>\n",
       "      <td>12.656373</td>\n",
       "    </tr>\n",
       "    <tr>\n",
       "      <th>2021-10-07 07:00:00</th>\n",
       "      <td>54534.16</td>\n",
       "      <td>54793.26</td>\n",
       "      <td>54235.33</td>\n",
       "      <td>54755.92</td>\n",
       "      <td>4163.431360</td>\n",
       "      <td>0.004058</td>\n",
       "      <td>12.707839</td>\n",
       "    </tr>\n",
       "    <tr>\n",
       "      <th>2021-10-07 08:00:00</th>\n",
       "      <td>54755.91</td>\n",
       "      <td>54778.91</td>\n",
       "      <td>54400.00</td>\n",
       "      <td>54538.30</td>\n",
       "      <td>2049.382180</td>\n",
       "      <td>-0.003982</td>\n",
       "      <td>12.657334</td>\n",
       "    </tr>\n",
       "    <tr>\n",
       "      <th>2021-10-07 09:00:00</th>\n",
       "      <td>54538.31</td>\n",
       "      <td>54547.30</td>\n",
       "      <td>53786.13</td>\n",
       "      <td>53995.50</td>\n",
       "      <td>2739.153610</td>\n",
       "      <td>-0.010002</td>\n",
       "      <td>12.531360</td>\n",
       "    </tr>\n",
       "  </tbody>\n",
       "</table>\n",
       "<p>36168 rows × 7 columns</p>\n",
       "</div>"
      ],
      "text/plain": [
       "                         Open      High       Low     Close       Volume  \\\n",
       "Date                                                                       \n",
       "2017-08-17 04:00:00   4261.48   4313.62   4261.32   4308.83    47.181009   \n",
       "2017-08-17 05:00:00   4308.83   4328.69   4291.37   4315.32    23.234916   \n",
       "2017-08-17 06:00:00   4330.29   4345.45   4309.37   4324.35     7.229691   \n",
       "2017-08-17 07:00:00   4316.62   4349.99   4287.41   4349.99     4.443249   \n",
       "2017-08-17 08:00:00   4333.32   4377.85   4333.32   4360.69     0.972807   \n",
       "...                       ...       ...       ...       ...          ...   \n",
       "2021-10-07 05:00:00  55073.20  55073.21  54545.07  54735.76  2251.122020   \n",
       "2021-10-07 06:00:00  54735.77  54968.06  54375.83  54534.16  1783.004260   \n",
       "2021-10-07 07:00:00  54534.16  54793.26  54235.33  54755.92  4163.431360   \n",
       "2021-10-07 08:00:00  54755.91  54778.91  54400.00  54538.30  2049.382180   \n",
       "2021-10-07 09:00:00  54538.31  54547.30  53786.13  53995.50  2739.153610   \n",
       "\n",
       "                      returns   creturns  \n",
       "Date                                      \n",
       "2017-08-17 04:00:00       NaN        NaN  \n",
       "2017-08-17 05:00:00  0.001505   1.001506  \n",
       "2017-08-17 06:00:00  0.002090   1.003602  \n",
       "2017-08-17 07:00:00  0.005912   1.009552  \n",
       "2017-08-17 08:00:00  0.002457   1.012036  \n",
       "...                       ...        ...  \n",
       "2021-10-07 05:00:00 -0.006146  12.703161  \n",
       "2021-10-07 06:00:00 -0.003690  12.656373  \n",
       "2021-10-07 07:00:00  0.004058  12.707839  \n",
       "2021-10-07 08:00:00 -0.003982  12.657334  \n",
       "2021-10-07 09:00:00 -0.010002  12.531360  \n",
       "\n",
       "[36168 rows x 7 columns]"
      ]
     },
     "execution_count": 22,
     "metadata": {},
     "output_type": "execute_result"
    }
   ],
   "source": [
    "data \n"
   ]
  },
  {
   "cell_type": "code",
   "execution_count": 28,
   "metadata": {},
   "outputs": [
    {
     "name": "stderr",
     "output_type": "stream",
     "text": [
      "C:\\Users\\jdlugosz\\AppData\\Local\\Programs\\Python\\Python38\\lib\\site-packages\\pandas\\core\\arraylike.py:397: RuntimeWarning: divide by zero encountered in log\n",
      "  result = getattr(ufunc, method)(*inputs, **kwargs)\n"
     ]
    },
    {
     "data": {
      "text/html": [
       "<div>\n",
       "<style scoped>\n",
       "    .dataframe tbody tr th:only-of-type {\n",
       "        vertical-align: middle;\n",
       "    }\n",
       "\n",
       "    .dataframe tbody tr th {\n",
       "        vertical-align: top;\n",
       "    }\n",
       "\n",
       "    .dataframe thead th {\n",
       "        text-align: right;\n",
       "    }\n",
       "</style>\n",
       "<table border=\"1\" class=\"dataframe\">\n",
       "  <thead>\n",
       "    <tr style=\"text-align: right;\">\n",
       "      <th></th>\n",
       "      <th>Open</th>\n",
       "      <th>High</th>\n",
       "      <th>Low</th>\n",
       "      <th>Close</th>\n",
       "      <th>Volume</th>\n",
       "      <th>returns</th>\n",
       "      <th>creturns</th>\n",
       "      <th>vol_change</th>\n",
       "    </tr>\n",
       "    <tr>\n",
       "      <th>Date</th>\n",
       "      <th></th>\n",
       "      <th></th>\n",
       "      <th></th>\n",
       "      <th></th>\n",
       "      <th></th>\n",
       "      <th></th>\n",
       "      <th></th>\n",
       "      <th></th>\n",
       "    </tr>\n",
       "  </thead>\n",
       "  <tbody>\n",
       "    <tr>\n",
       "      <th>2017-08-17 04:00:00</th>\n",
       "      <td>4261.48</td>\n",
       "      <td>4313.62</td>\n",
       "      <td>4261.32</td>\n",
       "      <td>4308.83</td>\n",
       "      <td>47.181009</td>\n",
       "      <td>NaN</td>\n",
       "      <td>NaN</td>\n",
       "      <td>NaN</td>\n",
       "    </tr>\n",
       "    <tr>\n",
       "      <th>2017-08-17 05:00:00</th>\n",
       "      <td>4308.83</td>\n",
       "      <td>4328.69</td>\n",
       "      <td>4291.37</td>\n",
       "      <td>4315.32</td>\n",
       "      <td>23.234916</td>\n",
       "      <td>0.001505</td>\n",
       "      <td>1.001506</td>\n",
       "      <td>-0.708335</td>\n",
       "    </tr>\n",
       "    <tr>\n",
       "      <th>2017-08-17 06:00:00</th>\n",
       "      <td>4330.29</td>\n",
       "      <td>4345.45</td>\n",
       "      <td>4309.37</td>\n",
       "      <td>4324.35</td>\n",
       "      <td>7.229691</td>\n",
       "      <td>0.002090</td>\n",
       "      <td>1.003602</td>\n",
       "      <td>-1.167460</td>\n",
       "    </tr>\n",
       "    <tr>\n",
       "      <th>2017-08-17 07:00:00</th>\n",
       "      <td>4316.62</td>\n",
       "      <td>4349.99</td>\n",
       "      <td>4287.41</td>\n",
       "      <td>4349.99</td>\n",
       "      <td>4.443249</td>\n",
       "      <td>0.005912</td>\n",
       "      <td>1.009552</td>\n",
       "      <td>-0.486810</td>\n",
       "    </tr>\n",
       "    <tr>\n",
       "      <th>2017-08-17 08:00:00</th>\n",
       "      <td>4333.32</td>\n",
       "      <td>4377.85</td>\n",
       "      <td>4333.32</td>\n",
       "      <td>4360.69</td>\n",
       "      <td>0.972807</td>\n",
       "      <td>0.002457</td>\n",
       "      <td>1.012036</td>\n",
       "      <td>-1.518955</td>\n",
       "    </tr>\n",
       "    <tr>\n",
       "      <th>...</th>\n",
       "      <td>...</td>\n",
       "      <td>...</td>\n",
       "      <td>...</td>\n",
       "      <td>...</td>\n",
       "      <td>...</td>\n",
       "      <td>...</td>\n",
       "      <td>...</td>\n",
       "      <td>...</td>\n",
       "    </tr>\n",
       "    <tr>\n",
       "      <th>2021-10-07 05:00:00</th>\n",
       "      <td>55073.20</td>\n",
       "      <td>55073.21</td>\n",
       "      <td>54545.07</td>\n",
       "      <td>54735.76</td>\n",
       "      <td>2251.122020</td>\n",
       "      <td>-0.006146</td>\n",
       "      <td>12.703161</td>\n",
       "      <td>0.439863</td>\n",
       "    </tr>\n",
       "    <tr>\n",
       "      <th>2021-10-07 06:00:00</th>\n",
       "      <td>54735.77</td>\n",
       "      <td>54968.06</td>\n",
       "      <td>54375.83</td>\n",
       "      <td>54534.16</td>\n",
       "      <td>1783.004260</td>\n",
       "      <td>-0.003690</td>\n",
       "      <td>12.656373</td>\n",
       "      <td>-0.233129</td>\n",
       "    </tr>\n",
       "    <tr>\n",
       "      <th>2021-10-07 07:00:00</th>\n",
       "      <td>54534.16</td>\n",
       "      <td>54793.26</td>\n",
       "      <td>54235.33</td>\n",
       "      <td>54755.92</td>\n",
       "      <td>4163.431360</td>\n",
       "      <td>0.004058</td>\n",
       "      <td>12.707839</td>\n",
       "      <td>0.848040</td>\n",
       "    </tr>\n",
       "    <tr>\n",
       "      <th>2021-10-07 08:00:00</th>\n",
       "      <td>54755.91</td>\n",
       "      <td>54778.91</td>\n",
       "      <td>54400.00</td>\n",
       "      <td>54538.30</td>\n",
       "      <td>2049.382180</td>\n",
       "      <td>-0.003982</td>\n",
       "      <td>12.657334</td>\n",
       "      <td>-0.708801</td>\n",
       "    </tr>\n",
       "    <tr>\n",
       "      <th>2021-10-07 09:00:00</th>\n",
       "      <td>54538.31</td>\n",
       "      <td>54547.30</td>\n",
       "      <td>53786.13</td>\n",
       "      <td>53995.50</td>\n",
       "      <td>2739.153610</td>\n",
       "      <td>-0.010002</td>\n",
       "      <td>12.531360</td>\n",
       "      <td>0.290111</td>\n",
       "    </tr>\n",
       "  </tbody>\n",
       "</table>\n",
       "<p>36168 rows × 8 columns</p>\n",
       "</div>"
      ],
      "text/plain": [
       "                         Open      High       Low     Close       Volume  \\\n",
       "Date                                                                       \n",
       "2017-08-17 04:00:00   4261.48   4313.62   4261.32   4308.83    47.181009   \n",
       "2017-08-17 05:00:00   4308.83   4328.69   4291.37   4315.32    23.234916   \n",
       "2017-08-17 06:00:00   4330.29   4345.45   4309.37   4324.35     7.229691   \n",
       "2017-08-17 07:00:00   4316.62   4349.99   4287.41   4349.99     4.443249   \n",
       "2017-08-17 08:00:00   4333.32   4377.85   4333.32   4360.69     0.972807   \n",
       "...                       ...       ...       ...       ...          ...   \n",
       "2021-10-07 05:00:00  55073.20  55073.21  54545.07  54735.76  2251.122020   \n",
       "2021-10-07 06:00:00  54735.77  54968.06  54375.83  54534.16  1783.004260   \n",
       "2021-10-07 07:00:00  54534.16  54793.26  54235.33  54755.92  4163.431360   \n",
       "2021-10-07 08:00:00  54755.91  54778.91  54400.00  54538.30  2049.382180   \n",
       "2021-10-07 09:00:00  54538.31  54547.30  53786.13  53995.50  2739.153610   \n",
       "\n",
       "                      returns   creturns  vol_change  \n",
       "Date                                                  \n",
       "2017-08-17 04:00:00       NaN        NaN         NaN  \n",
       "2017-08-17 05:00:00  0.001505   1.001506   -0.708335  \n",
       "2017-08-17 06:00:00  0.002090   1.003602   -1.167460  \n",
       "2017-08-17 07:00:00  0.005912   1.009552   -0.486810  \n",
       "2017-08-17 08:00:00  0.002457   1.012036   -1.518955  \n",
       "...                       ...        ...         ...  \n",
       "2021-10-07 05:00:00 -0.006146  12.703161    0.439863  \n",
       "2021-10-07 06:00:00 -0.003690  12.656373   -0.233129  \n",
       "2021-10-07 07:00:00  0.004058  12.707839    0.848040  \n",
       "2021-10-07 08:00:00 -0.003982  12.657334   -0.708801  \n",
       "2021-10-07 09:00:00 -0.010002  12.531360    0.290111  \n",
       "\n",
       "[36168 rows x 8 columns]"
      ]
     },
     "execution_count": 28,
     "metadata": {},
     "output_type": "execute_result"
    }
   ],
   "source": [
    "#SMA Cross over strategy \n",
    "data['vol_change'] = np.log(data.Volume.div(data.Volume.shift(1)))\n",
    "data"
   ]
  },
  {
   "cell_type": "code",
   "execution_count": 30,
   "metadata": {},
   "outputs": [],
   "source": [
    "data[[data['vol_change'] > 3]] = np.nan\n",
    "data[[data['vol_change'] < -3]] = np.nan"
   ]
  },
  {
   "cell_type": "code",
   "execution_count": 31,
   "metadata": {},
   "outputs": [
    {
     "data": {
      "text/plain": [
       "<AxesSubplot:ylabel='Frequency'>"
      ]
     },
     "execution_count": 31,
     "metadata": {},
     "output_type": "execute_result"
    },
    {
     "data": {
      "image/png": "[encoded data removed]",
      "text/plain": [
       "<Figure size 864x576 with 1 Axes>"
      ]
     },
     "metadata": {
      "needs_background": "light"
     },
     "output_type": "display_data"
    }
   ],
   "source": [
    "data.vol_change.plot(kind='hist',bins=100,figsize=(12,8))"
   ]
  },
  {
   "cell_type": "code",
   "execution_count": 32,
   "metadata": {},
   "outputs": [
    {
     "data": {
      "text/html": [
       "<div>\n",
       "<style scoped>\n",
       "    .dataframe tbody tr th:only-of-type {\n",
       "        vertical-align: middle;\n",
       "    }\n",
       "\n",
       "    .dataframe tbody tr th {\n",
       "        vertical-align: top;\n",
       "    }\n",
       "\n",
       "    .dataframe thead th {\n",
       "        text-align: right;\n",
       "    }\n",
       "</style>\n",
       "<table border=\"1\" class=\"dataframe\">\n",
       "  <thead>\n",
       "    <tr style=\"text-align: right;\">\n",
       "      <th></th>\n",
       "      <th>Open</th>\n",
       "      <th>High</th>\n",
       "      <th>Low</th>\n",
       "      <th>Close</th>\n",
       "      <th>Volume</th>\n",
       "      <th>returns</th>\n",
       "      <th>creturns</th>\n",
       "      <th>vol_change</th>\n",
       "    </tr>\n",
       "    <tr>\n",
       "      <th>Date</th>\n",
       "      <th></th>\n",
       "      <th></th>\n",
       "      <th></th>\n",
       "      <th></th>\n",
       "      <th></th>\n",
       "      <th></th>\n",
       "      <th></th>\n",
       "      <th></th>\n",
       "    </tr>\n",
       "  </thead>\n",
       "  <tbody>\n",
       "    <tr>\n",
       "      <th>2017-08-17 04:00:00</th>\n",
       "      <td>4261.48</td>\n",
       "      <td>4313.62</td>\n",
       "      <td>4261.32</td>\n",
       "      <td>4308.83</td>\n",
       "      <td>47.181009</td>\n",
       "      <td>NaN</td>\n",
       "      <td>NaN</td>\n",
       "      <td>NaN</td>\n",
       "    </tr>\n",
       "    <tr>\n",
       "      <th>2017-08-17 05:00:00</th>\n",
       "      <td>4308.83</td>\n",
       "      <td>4328.69</td>\n",
       "      <td>4291.37</td>\n",
       "      <td>4315.32</td>\n",
       "      <td>23.234916</td>\n",
       "      <td>0.001505</td>\n",
       "      <td>1.001506</td>\n",
       "      <td>-0.708335</td>\n",
       "    </tr>\n",
       "    <tr>\n",
       "      <th>2017-08-17 06:00:00</th>\n",
       "      <td>4330.29</td>\n",
       "      <td>4345.45</td>\n",
       "      <td>4309.37</td>\n",
       "      <td>4324.35</td>\n",
       "      <td>7.229691</td>\n",
       "      <td>0.002090</td>\n",
       "      <td>1.003602</td>\n",
       "      <td>-1.167460</td>\n",
       "    </tr>\n",
       "    <tr>\n",
       "      <th>2017-08-17 07:00:00</th>\n",
       "      <td>4316.62</td>\n",
       "      <td>4349.99</td>\n",
       "      <td>4287.41</td>\n",
       "      <td>4349.99</td>\n",
       "      <td>4.443249</td>\n",
       "      <td>0.005912</td>\n",
       "      <td>1.009552</td>\n",
       "      <td>-0.486810</td>\n",
       "    </tr>\n",
       "    <tr>\n",
       "      <th>2017-08-17 08:00:00</th>\n",
       "      <td>4333.32</td>\n",
       "      <td>4377.85</td>\n",
       "      <td>4333.32</td>\n",
       "      <td>4360.69</td>\n",
       "      <td>0.972807</td>\n",
       "      <td>0.002457</td>\n",
       "      <td>1.012036</td>\n",
       "      <td>-1.518955</td>\n",
       "    </tr>\n",
       "    <tr>\n",
       "      <th>...</th>\n",
       "      <td>...</td>\n",
       "      <td>...</td>\n",
       "      <td>...</td>\n",
       "      <td>...</td>\n",
       "      <td>...</td>\n",
       "      <td>...</td>\n",
       "      <td>...</td>\n",
       "      <td>...</td>\n",
       "    </tr>\n",
       "    <tr>\n",
       "      <th>2021-10-07 05:00:00</th>\n",
       "      <td>55073.20</td>\n",
       "      <td>55073.21</td>\n",
       "      <td>54545.07</td>\n",
       "      <td>54735.76</td>\n",
       "      <td>2251.122020</td>\n",
       "      <td>-0.006146</td>\n",
       "      <td>12.703161</td>\n",
       "      <td>0.439863</td>\n",
       "    </tr>\n",
       "    <tr>\n",
       "      <th>2021-10-07 06:00:00</th>\n",
       "      <td>54735.77</td>\n",
       "      <td>54968.06</td>\n",
       "      <td>54375.83</td>\n",
       "      <td>54534.16</td>\n",
       "      <td>1783.004260</td>\n",
       "      <td>-0.003690</td>\n",
       "      <td>12.656373</td>\n",
       "      <td>-0.233129</td>\n",
       "    </tr>\n",
       "    <tr>\n",
       "      <th>2021-10-07 07:00:00</th>\n",
       "      <td>54534.16</td>\n",
       "      <td>54793.26</td>\n",
       "      <td>54235.33</td>\n",
       "      <td>54755.92</td>\n",
       "      <td>4163.431360</td>\n",
       "      <td>0.004058</td>\n",
       "      <td>12.707839</td>\n",
       "      <td>0.848040</td>\n",
       "    </tr>\n",
       "    <tr>\n",
       "      <th>2021-10-07 08:00:00</th>\n",
       "      <td>54755.91</td>\n",
       "      <td>54778.91</td>\n",
       "      <td>54400.00</td>\n",
       "      <td>54538.30</td>\n",
       "      <td>2049.382180</td>\n",
       "      <td>-0.003982</td>\n",
       "      <td>12.657334</td>\n",
       "      <td>-0.708801</td>\n",
       "    </tr>\n",
       "    <tr>\n",
       "      <th>2021-10-07 09:00:00</th>\n",
       "      <td>54538.31</td>\n",
       "      <td>54547.30</td>\n",
       "      <td>53786.13</td>\n",
       "      <td>53995.50</td>\n",
       "      <td>2739.153610</td>\n",
       "      <td>-0.010002</td>\n",
       "      <td>12.531360</td>\n",
       "      <td>0.290111</td>\n",
       "    </tr>\n",
       "  </tbody>\n",
       "</table>\n",
       "<p>36168 rows × 8 columns</p>\n",
       "</div>"
      ],
      "text/plain": [
       "                         Open      High       Low     Close       Volume  \\\n",
       "Date                                                                       \n",
       "2017-08-17 04:00:00   4261.48   4313.62   4261.32   4308.83    47.181009   \n",
       "2017-08-17 05:00:00   4308.83   4328.69   4291.37   4315.32    23.234916   \n",
       "2017-08-17 06:00:00   4330.29   4345.45   4309.37   4324.35     7.229691   \n",
       "2017-08-17 07:00:00   4316.62   4349.99   4287.41   4349.99     4.443249   \n",
       "2017-08-17 08:00:00   4333.32   4377.85   4333.32   4360.69     0.972807   \n",
       "...                       ...       ...       ...       ...          ...   \n",
       "2021-10-07 05:00:00  55073.20  55073.21  54545.07  54735.76  2251.122020   \n",
       "2021-10-07 06:00:00  54735.77  54968.06  54375.83  54534.16  1783.004260   \n",
       "2021-10-07 07:00:00  54534.16  54793.26  54235.33  54755.92  4163.431360   \n",
       "2021-10-07 08:00:00  54755.91  54778.91  54400.00  54538.30  2049.382180   \n",
       "2021-10-07 09:00:00  54538.31  54547.30  53786.13  53995.50  2739.153610   \n",
       "\n",
       "                      returns   creturns  vol_change  \n",
       "Date                                                  \n",
       "2017-08-17 04:00:00       NaN        NaN         NaN  \n",
       "2017-08-17 05:00:00  0.001505   1.001506   -0.708335  \n",
       "2017-08-17 06:00:00  0.002090   1.003602   -1.167460  \n",
       "2017-08-17 07:00:00  0.005912   1.009552   -0.486810  \n",
       "2017-08-17 08:00:00  0.002457   1.012036   -1.518955  \n",
       "...                       ...        ...         ...  \n",
       "2021-10-07 05:00:00 -0.006146  12.703161    0.439863  \n",
       "2021-10-07 06:00:00 -0.003690  12.656373   -0.233129  \n",
       "2021-10-07 07:00:00  0.004058  12.707839    0.848040  \n",
       "2021-10-07 08:00:00 -0.003982  12.657334   -0.708801  \n",
       "2021-10-07 09:00:00 -0.010002  12.531360    0.290111  \n",
       "\n",
       "[36168 rows x 8 columns]"
      ]
     },
     "execution_count": 32,
     "metadata": {},
     "output_type": "execute_result"
    }
   ],
   "source": [
    "data"
   ]
  },
  {
   "cell_type": "code",
   "execution_count": 33,
   "metadata": {},
   "outputs": [
    {
     "data": {
      "text/plain": [
       "<matplotlib.collections.PathCollection at 0x1ca76bdd310>"
      ]
     },
     "execution_count": 33,
     "metadata": {},
     "output_type": "execute_result"
    },
    {
     "data": {
      "image/png": "[encoded data removed]",
      "text/plain": [
       "<Figure size 432x288 with 1 Axes>"
      ]
     },
     "metadata": {
      "needs_background": "light"
     },
     "output_type": "display_data"
    }
   ],
   "source": [
    "plt.scatter(x=data.vol_change,y=data.returns)"
   ]
  },
  {
   "cell_type": "code",
   "execution_count": 34,
   "metadata": {},
   "outputs": [],
   "source": [
    "data['ret_cat'] = pd.qcut(data.returns,q=10,labels=[-5,-4,-3,-2,-1,1,2,3,4,5])"
   ]
  },
  {
   "cell_type": "code",
   "execution_count": 35,
   "metadata": {},
   "outputs": [],
   "source": [
    "data['vol_cat'] = pd.qcut(data.vol_change,q=10,labels=[-5,-4,-3,-2,-1,1,2,3,4,5])"
   ]
  },
  {
   "cell_type": "code",
   "execution_count": 36,
   "metadata": {},
   "outputs": [],
   "source": [
    "## Volume trading strategy \n",
    "data['position'] =1 # trading position -> long(1)"
   ]
  },
  {
   "cell_type": "code",
   "execution_count": 38,
   "metadata": {},
   "outputs": [
    {
     "data": {
      "text/plain": [
       "0.008232184422962084"
      ]
     },
     "execution_count": 38,
     "metadata": {},
     "output_type": "execute_result"
    }
   ],
   "source": [
    "#get returns for very high returns >= 90th percentile \n",
    "return_thresh = np.percentile(data.returns.dropna(),90)\n",
    "return_thresh"
   ]
  },
  {
   "cell_type": "code",
   "execution_count": 39,
   "metadata": {},
   "outputs": [
    {
     "data": {
      "text/plain": [
       "Date\n",
       "2017-08-17 04:00:00    False\n",
       "2017-08-17 05:00:00    False\n",
       "2017-08-17 06:00:00    False\n",
       "2017-08-17 07:00:00    False\n",
       "2017-08-17 08:00:00    False\n",
       "                       ...  \n",
       "2021-10-07 05:00:00    False\n",
       "2021-10-07 06:00:00    False\n",
       "2021-10-07 07:00:00    False\n",
       "2021-10-07 08:00:00    False\n",
       "2021-10-07 09:00:00    False\n",
       "Name: returns, Length: 36168, dtype: bool"
      ]
     },
     "execution_count": 39,
     "metadata": {},
     "output_type": "execute_result"
    }
   ],
   "source": [
    "cond1 = data.returns >= return_thresh\n",
    "cond1"
   ]
  },
  {
   "cell_type": "code",
   "execution_count": 43,
   "metadata": {},
   "outputs": [
    {
     "data": {
      "text/plain": [
       "array([-0.72895253, -0.37604441])"
      ]
     },
     "execution_count": 43,
     "metadata": {},
     "output_type": "execute_result"
    }
   ],
   "source": [
    "#moderate threshold \n",
    "volume_thresh = np.percentile(data.vol_change.dropna(),[5,20])\n",
    "volume_thresh"
   ]
  },
  {
   "cell_type": "code",
   "execution_count": 44,
   "metadata": {},
   "outputs": [
    {
     "data": {
      "text/plain": [
       "Date\n",
       "2017-08-17 04:00:00    False\n",
       "2017-08-17 05:00:00     True\n",
       "2017-08-17 06:00:00    False\n",
       "2017-08-17 07:00:00     True\n",
       "2017-08-17 08:00:00    False\n",
       "                       ...  \n",
       "2021-10-07 05:00:00    False\n",
       "2021-10-07 06:00:00    False\n",
       "2021-10-07 07:00:00    False\n",
       "2021-10-07 08:00:00     True\n",
       "2021-10-07 09:00:00    False\n",
       "Name: vol_change, Length: 36168, dtype: bool"
      ]
     },
     "execution_count": 44,
     "metadata": {},
     "output_type": "execute_result"
    }
   ],
   "source": [
    "cond2 = data.vol_change.between(volume_thresh[0],volume_thresh[1])\n",
    "cond2"
   ]
  },
  {
   "cell_type": "code",
   "execution_count": 45,
   "metadata": {},
   "outputs": [],
   "source": [
    "data.loc[cond1 & cond2,'position'] = 0"
   ]
  },
  {
   "cell_type": "code",
   "execution_count": 46,
   "metadata": {},
   "outputs": [
    {
     "data": {
      "text/html": [
       "<div>\n",
       "<style scoped>\n",
       "    .dataframe tbody tr th:only-of-type {\n",
       "        vertical-align: middle;\n",
       "    }\n",
       "\n",
       "    .dataframe tbody tr th {\n",
       "        vertical-align: top;\n",
       "    }\n",
       "\n",
       "    .dataframe thead th {\n",
       "        text-align: right;\n",
       "    }\n",
       "</style>\n",
       "<table border=\"1\" class=\"dataframe\">\n",
       "  <thead>\n",
       "    <tr style=\"text-align: right;\">\n",
       "      <th></th>\n",
       "      <th>Open</th>\n",
       "      <th>High</th>\n",
       "      <th>Low</th>\n",
       "      <th>Close</th>\n",
       "      <th>Volume</th>\n",
       "      <th>returns</th>\n",
       "      <th>creturns</th>\n",
       "      <th>vol_change</th>\n",
       "      <th>ret_cat</th>\n",
       "      <th>vol_cat</th>\n",
       "      <th>position</th>\n",
       "    </tr>\n",
       "    <tr>\n",
       "      <th>Date</th>\n",
       "      <th></th>\n",
       "      <th></th>\n",
       "      <th></th>\n",
       "      <th></th>\n",
       "      <th></th>\n",
       "      <th></th>\n",
       "      <th></th>\n",
       "      <th></th>\n",
       "      <th></th>\n",
       "      <th></th>\n",
       "      <th></th>\n",
       "    </tr>\n",
       "  </thead>\n",
       "  <tbody>\n",
       "    <tr>\n",
       "      <th>2017-08-17 04:00:00</th>\n",
       "      <td>4261.48</td>\n",
       "      <td>4313.62</td>\n",
       "      <td>4261.32</td>\n",
       "      <td>4308.83</td>\n",
       "      <td>47.181009</td>\n",
       "      <td>NaN</td>\n",
       "      <td>NaN</td>\n",
       "      <td>NaN</td>\n",
       "      <td>NaN</td>\n",
       "      <td>NaN</td>\n",
       "      <td>1</td>\n",
       "    </tr>\n",
       "    <tr>\n",
       "      <th>2017-08-17 05:00:00</th>\n",
       "      <td>4308.83</td>\n",
       "      <td>4328.69</td>\n",
       "      <td>4291.37</td>\n",
       "      <td>4315.32</td>\n",
       "      <td>23.234916</td>\n",
       "      <td>0.001505</td>\n",
       "      <td>1.001506</td>\n",
       "      <td>-0.708335</td>\n",
       "      <td>2</td>\n",
       "      <td>-5</td>\n",
       "      <td>1</td>\n",
       "    </tr>\n",
       "    <tr>\n",
       "      <th>2017-08-17 06:00:00</th>\n",
       "      <td>4330.29</td>\n",
       "      <td>4345.45</td>\n",
       "      <td>4309.37</td>\n",
       "      <td>4324.35</td>\n",
       "      <td>7.229691</td>\n",
       "      <td>0.002090</td>\n",
       "      <td>1.003602</td>\n",
       "      <td>-1.167460</td>\n",
       "      <td>2</td>\n",
       "      <td>-5</td>\n",
       "      <td>1</td>\n",
       "    </tr>\n",
       "    <tr>\n",
       "      <th>2017-08-17 07:00:00</th>\n",
       "      <td>4316.62</td>\n",
       "      <td>4349.99</td>\n",
       "      <td>4287.41</td>\n",
       "      <td>4349.99</td>\n",
       "      <td>4.443249</td>\n",
       "      <td>0.005912</td>\n",
       "      <td>1.009552</td>\n",
       "      <td>-0.486810</td>\n",
       "      <td>4</td>\n",
       "      <td>-4</td>\n",
       "      <td>1</td>\n",
       "    </tr>\n",
       "    <tr>\n",
       "      <th>2017-08-17 08:00:00</th>\n",
       "      <td>4333.32</td>\n",
       "      <td>4377.85</td>\n",
       "      <td>4333.32</td>\n",
       "      <td>4360.69</td>\n",
       "      <td>0.972807</td>\n",
       "      <td>0.002457</td>\n",
       "      <td>1.012036</td>\n",
       "      <td>-1.518955</td>\n",
       "      <td>3</td>\n",
       "      <td>-5</td>\n",
       "      <td>1</td>\n",
       "    </tr>\n",
       "    <tr>\n",
       "      <th>...</th>\n",
       "      <td>...</td>\n",
       "      <td>...</td>\n",
       "      <td>...</td>\n",
       "      <td>...</td>\n",
       "      <td>...</td>\n",
       "      <td>...</td>\n",
       "      <td>...</td>\n",
       "      <td>...</td>\n",
       "      <td>...</td>\n",
       "      <td>...</td>\n",
       "      <td>...</td>\n",
       "    </tr>\n",
       "    <tr>\n",
       "      <th>2021-10-07 05:00:00</th>\n",
       "      <td>55073.20</td>\n",
       "      <td>55073.21</td>\n",
       "      <td>54545.07</td>\n",
       "      <td>54735.76</td>\n",
       "      <td>2251.122020</td>\n",
       "      <td>-0.006146</td>\n",
       "      <td>12.703161</td>\n",
       "      <td>0.439863</td>\n",
       "      <td>-4</td>\n",
       "      <td>4</td>\n",
       "      <td>1</td>\n",
       "    </tr>\n",
       "    <tr>\n",
       "      <th>2021-10-07 06:00:00</th>\n",
       "      <td>54735.77</td>\n",
       "      <td>54968.06</td>\n",
       "      <td>54375.83</td>\n",
       "      <td>54534.16</td>\n",
       "      <td>1783.004260</td>\n",
       "      <td>-0.003690</td>\n",
       "      <td>12.656373</td>\n",
       "      <td>-0.233129</td>\n",
       "      <td>-3</td>\n",
       "      <td>-2</td>\n",
       "      <td>1</td>\n",
       "    </tr>\n",
       "    <tr>\n",
       "      <th>2021-10-07 07:00:00</th>\n",
       "      <td>54534.16</td>\n",
       "      <td>54793.26</td>\n",
       "      <td>54235.33</td>\n",
       "      <td>54755.92</td>\n",
       "      <td>4163.431360</td>\n",
       "      <td>0.004058</td>\n",
       "      <td>12.707839</td>\n",
       "      <td>0.848040</td>\n",
       "      <td>3</td>\n",
       "      <td>5</td>\n",
       "      <td>1</td>\n",
       "    </tr>\n",
       "    <tr>\n",
       "      <th>2021-10-07 08:00:00</th>\n",
       "      <td>54755.91</td>\n",
       "      <td>54778.91</td>\n",
       "      <td>54400.00</td>\n",
       "      <td>54538.30</td>\n",
       "      <td>2049.382180</td>\n",
       "      <td>-0.003982</td>\n",
       "      <td>12.657334</td>\n",
       "      <td>-0.708801</td>\n",
       "      <td>-3</td>\n",
       "      <td>-5</td>\n",
       "      <td>1</td>\n",
       "    </tr>\n",
       "    <tr>\n",
       "      <th>2021-10-07 09:00:00</th>\n",
       "      <td>54538.31</td>\n",
       "      <td>54547.30</td>\n",
       "      <td>53786.13</td>\n",
       "      <td>53995.50</td>\n",
       "      <td>2739.153610</td>\n",
       "      <td>-0.010002</td>\n",
       "      <td>12.531360</td>\n",
       "      <td>0.290111</td>\n",
       "      <td>-5</td>\n",
       "      <td>3</td>\n",
       "      <td>1</td>\n",
       "    </tr>\n",
       "  </tbody>\n",
       "</table>\n",
       "<p>36168 rows × 11 columns</p>\n",
       "</div>"
      ],
      "text/plain": [
       "                         Open      High       Low     Close       Volume  \\\n",
       "Date                                                                       \n",
       "2017-08-17 04:00:00   4261.48   4313.62   4261.32   4308.83    47.181009   \n",
       "2017-08-17 05:00:00   4308.83   4328.69   4291.37   4315.32    23.234916   \n",
       "2017-08-17 06:00:00   4330.29   4345.45   4309.37   4324.35     7.229691   \n",
       "2017-08-17 07:00:00   4316.62   4349.99   4287.41   4349.99     4.443249   \n",
       "2017-08-17 08:00:00   4333.32   4377.85   4333.32   4360.69     0.972807   \n",
       "...                       ...       ...       ...       ...          ...   \n",
       "2021-10-07 05:00:00  55073.20  55073.21  54545.07  54735.76  2251.122020   \n",
       "2021-10-07 06:00:00  54735.77  54968.06  54375.83  54534.16  1783.004260   \n",
       "2021-10-07 07:00:00  54534.16  54793.26  54235.33  54755.92  4163.431360   \n",
       "2021-10-07 08:00:00  54755.91  54778.91  54400.00  54538.30  2049.382180   \n",
       "2021-10-07 09:00:00  54538.31  54547.30  53786.13  53995.50  2739.153610   \n",
       "\n",
       "                      returns   creturns  vol_change ret_cat vol_cat  position  \n",
       "Date                                                                            \n",
       "2017-08-17 04:00:00       NaN        NaN         NaN     NaN     NaN         1  \n",
       "2017-08-17 05:00:00  0.001505   1.001506   -0.708335       2      -5         1  \n",
       "2017-08-17 06:00:00  0.002090   1.003602   -1.167460       2      -5         1  \n",
       "2017-08-17 07:00:00  0.005912   1.009552   -0.486810       4      -4         1  \n",
       "2017-08-17 08:00:00  0.002457   1.012036   -1.518955       3      -5         1  \n",
       "...                       ...        ...         ...     ...     ...       ...  \n",
       "2021-10-07 05:00:00 -0.006146  12.703161    0.439863      -4       4         1  \n",
       "2021-10-07 06:00:00 -0.003690  12.656373   -0.233129      -3      -2         1  \n",
       "2021-10-07 07:00:00  0.004058  12.707839    0.848040       3       5         1  \n",
       "2021-10-07 08:00:00 -0.003982  12.657334   -0.708801      -3      -5         1  \n",
       "2021-10-07 09:00:00 -0.010002  12.531360    0.290111      -5       3         1  \n",
       "\n",
       "[36168 rows x 11 columns]"
      ]
     },
     "execution_count": 46,
     "metadata": {},
     "output_type": "execute_result"
    }
   ],
   "source": [
    "data"
   ]
  },
  {
   "cell_type": "code",
   "execution_count": 47,
   "metadata": {},
   "outputs": [
    {
     "data": {
      "text/html": [
       "<div>\n",
       "<style scoped>\n",
       "    .dataframe tbody tr th:only-of-type {\n",
       "        vertical-align: middle;\n",
       "    }\n",
       "\n",
       "    .dataframe tbody tr th {\n",
       "        vertical-align: top;\n",
       "    }\n",
       "\n",
       "    .dataframe thead th {\n",
       "        text-align: right;\n",
       "    }\n",
       "</style>\n",
       "<table border=\"1\" class=\"dataframe\">\n",
       "  <thead>\n",
       "    <tr style=\"text-align: right;\">\n",
       "      <th></th>\n",
       "      <th>Open</th>\n",
       "      <th>High</th>\n",
       "      <th>Low</th>\n",
       "      <th>Close</th>\n",
       "      <th>Volume</th>\n",
       "      <th>returns</th>\n",
       "      <th>creturns</th>\n",
       "      <th>vol_change</th>\n",
       "      <th>ret_cat</th>\n",
       "      <th>vol_cat</th>\n",
       "      <th>position</th>\n",
       "      <th>strategy</th>\n",
       "    </tr>\n",
       "    <tr>\n",
       "      <th>Date</th>\n",
       "      <th></th>\n",
       "      <th></th>\n",
       "      <th></th>\n",
       "      <th></th>\n",
       "      <th></th>\n",
       "      <th></th>\n",
       "      <th></th>\n",
       "      <th></th>\n",
       "      <th></th>\n",
       "      <th></th>\n",
       "      <th></th>\n",
       "      <th></th>\n",
       "    </tr>\n",
       "  </thead>\n",
       "  <tbody>\n",
       "    <tr>\n",
       "      <th>2017-08-17 04:00:00</th>\n",
       "      <td>4261.48</td>\n",
       "      <td>4313.62</td>\n",
       "      <td>4261.32</td>\n",
       "      <td>4308.83</td>\n",
       "      <td>47.181009</td>\n",
       "      <td>NaN</td>\n",
       "      <td>NaN</td>\n",
       "      <td>NaN</td>\n",
       "      <td>NaN</td>\n",
       "      <td>NaN</td>\n",
       "      <td>1</td>\n",
       "      <td>NaN</td>\n",
       "    </tr>\n",
       "    <tr>\n",
       "      <th>2017-08-17 05:00:00</th>\n",
       "      <td>4308.83</td>\n",
       "      <td>4328.69</td>\n",
       "      <td>4291.37</td>\n",
       "      <td>4315.32</td>\n",
       "      <td>23.234916</td>\n",
       "      <td>0.001505</td>\n",
       "      <td>1.001506</td>\n",
       "      <td>-0.708335</td>\n",
       "      <td>2</td>\n",
       "      <td>-5</td>\n",
       "      <td>1</td>\n",
       "      <td>0.001505</td>\n",
       "    </tr>\n",
       "    <tr>\n",
       "      <th>2017-08-17 06:00:00</th>\n",
       "      <td>4330.29</td>\n",
       "      <td>4345.45</td>\n",
       "      <td>4309.37</td>\n",
       "      <td>4324.35</td>\n",
       "      <td>7.229691</td>\n",
       "      <td>0.002090</td>\n",
       "      <td>1.003602</td>\n",
       "      <td>-1.167460</td>\n",
       "      <td>2</td>\n",
       "      <td>-5</td>\n",
       "      <td>1</td>\n",
       "      <td>0.002090</td>\n",
       "    </tr>\n",
       "    <tr>\n",
       "      <th>2017-08-17 07:00:00</th>\n",
       "      <td>4316.62</td>\n",
       "      <td>4349.99</td>\n",
       "      <td>4287.41</td>\n",
       "      <td>4349.99</td>\n",
       "      <td>4.443249</td>\n",
       "      <td>0.005912</td>\n",
       "      <td>1.009552</td>\n",
       "      <td>-0.486810</td>\n",
       "      <td>4</td>\n",
       "      <td>-4</td>\n",
       "      <td>1</td>\n",
       "      <td>0.005912</td>\n",
       "    </tr>\n",
       "    <tr>\n",
       "      <th>2017-08-17 08:00:00</th>\n",
       "      <td>4333.32</td>\n",
       "      <td>4377.85</td>\n",
       "      <td>4333.32</td>\n",
       "      <td>4360.69</td>\n",
       "      <td>0.972807</td>\n",
       "      <td>0.002457</td>\n",
       "      <td>1.012036</td>\n",
       "      <td>-1.518955</td>\n",
       "      <td>3</td>\n",
       "      <td>-5</td>\n",
       "      <td>1</td>\n",
       "      <td>0.002457</td>\n",
       "    </tr>\n",
       "    <tr>\n",
       "      <th>...</th>\n",
       "      <td>...</td>\n",
       "      <td>...</td>\n",
       "      <td>...</td>\n",
       "      <td>...</td>\n",
       "      <td>...</td>\n",
       "      <td>...</td>\n",
       "      <td>...</td>\n",
       "      <td>...</td>\n",
       "      <td>...</td>\n",
       "      <td>...</td>\n",
       "      <td>...</td>\n",
       "      <td>...</td>\n",
       "    </tr>\n",
       "    <tr>\n",
       "      <th>2021-10-07 05:00:00</th>\n",
       "      <td>55073.20</td>\n",
       "      <td>55073.21</td>\n",
       "      <td>54545.07</td>\n",
       "      <td>54735.76</td>\n",
       "      <td>2251.122020</td>\n",
       "      <td>-0.006146</td>\n",
       "      <td>12.703161</td>\n",
       "      <td>0.439863</td>\n",
       "      <td>-4</td>\n",
       "      <td>4</td>\n",
       "      <td>1</td>\n",
       "      <td>-0.006146</td>\n",
       "    </tr>\n",
       "    <tr>\n",
       "      <th>2021-10-07 06:00:00</th>\n",
       "      <td>54735.77</td>\n",
       "      <td>54968.06</td>\n",
       "      <td>54375.83</td>\n",
       "      <td>54534.16</td>\n",
       "      <td>1783.004260</td>\n",
       "      <td>-0.003690</td>\n",
       "      <td>12.656373</td>\n",
       "      <td>-0.233129</td>\n",
       "      <td>-3</td>\n",
       "      <td>-2</td>\n",
       "      <td>1</td>\n",
       "      <td>-0.003690</td>\n",
       "    </tr>\n",
       "    <tr>\n",
       "      <th>2021-10-07 07:00:00</th>\n",
       "      <td>54534.16</td>\n",
       "      <td>54793.26</td>\n",
       "      <td>54235.33</td>\n",
       "      <td>54755.92</td>\n",
       "      <td>4163.431360</td>\n",
       "      <td>0.004058</td>\n",
       "      <td>12.707839</td>\n",
       "      <td>0.848040</td>\n",
       "      <td>3</td>\n",
       "      <td>5</td>\n",
       "      <td>1</td>\n",
       "      <td>0.004058</td>\n",
       "    </tr>\n",
       "    <tr>\n",
       "      <th>2021-10-07 08:00:00</th>\n",
       "      <td>54755.91</td>\n",
       "      <td>54778.91</td>\n",
       "      <td>54400.00</td>\n",
       "      <td>54538.30</td>\n",
       "      <td>2049.382180</td>\n",
       "      <td>-0.003982</td>\n",
       "      <td>12.657334</td>\n",
       "      <td>-0.708801</td>\n",
       "      <td>-3</td>\n",
       "      <td>-5</td>\n",
       "      <td>1</td>\n",
       "      <td>-0.003982</td>\n",
       "    </tr>\n",
       "    <tr>\n",
       "      <th>2021-10-07 09:00:00</th>\n",
       "      <td>54538.31</td>\n",
       "      <td>54547.30</td>\n",
       "      <td>53786.13</td>\n",
       "      <td>53995.50</td>\n",
       "      <td>2739.153610</td>\n",
       "      <td>-0.010002</td>\n",
       "      <td>12.531360</td>\n",
       "      <td>0.290111</td>\n",
       "      <td>-5</td>\n",
       "      <td>3</td>\n",
       "      <td>1</td>\n",
       "      <td>-0.010002</td>\n",
       "    </tr>\n",
       "  </tbody>\n",
       "</table>\n",
       "<p>36168 rows × 12 columns</p>\n",
       "</div>"
      ],
      "text/plain": [
       "                         Open      High       Low     Close       Volume  \\\n",
       "Date                                                                       \n",
       "2017-08-17 04:00:00   4261.48   4313.62   4261.32   4308.83    47.181009   \n",
       "2017-08-17 05:00:00   4308.83   4328.69   4291.37   4315.32    23.234916   \n",
       "2017-08-17 06:00:00   4330.29   4345.45   4309.37   4324.35     7.229691   \n",
       "2017-08-17 07:00:00   4316.62   4349.99   4287.41   4349.99     4.443249   \n",
       "2017-08-17 08:00:00   4333.32   4377.85   4333.32   4360.69     0.972807   \n",
       "...                       ...       ...       ...       ...          ...   \n",
       "2021-10-07 05:00:00  55073.20  55073.21  54545.07  54735.76  2251.122020   \n",
       "2021-10-07 06:00:00  54735.77  54968.06  54375.83  54534.16  1783.004260   \n",
       "2021-10-07 07:00:00  54534.16  54793.26  54235.33  54755.92  4163.431360   \n",
       "2021-10-07 08:00:00  54755.91  54778.91  54400.00  54538.30  2049.382180   \n",
       "2021-10-07 09:00:00  54538.31  54547.30  53786.13  53995.50  2739.153610   \n",
       "\n",
       "                      returns   creturns  vol_change ret_cat vol_cat  \\\n",
       "Date                                                                   \n",
       "2017-08-17 04:00:00       NaN        NaN         NaN     NaN     NaN   \n",
       "2017-08-17 05:00:00  0.001505   1.001506   -0.708335       2      -5   \n",
       "2017-08-17 06:00:00  0.002090   1.003602   -1.167460       2      -5   \n",
       "2017-08-17 07:00:00  0.005912   1.009552   -0.486810       4      -4   \n",
       "2017-08-17 08:00:00  0.002457   1.012036   -1.518955       3      -5   \n",
       "...                       ...        ...         ...     ...     ...   \n",
       "2021-10-07 05:00:00 -0.006146  12.703161    0.439863      -4       4   \n",
       "2021-10-07 06:00:00 -0.003690  12.656373   -0.233129      -3      -2   \n",
       "2021-10-07 07:00:00  0.004058  12.707839    0.848040       3       5   \n",
       "2021-10-07 08:00:00 -0.003982  12.657334   -0.708801      -3      -5   \n",
       "2021-10-07 09:00:00 -0.010002  12.531360    0.290111      -5       3   \n",
       "\n",
       "                     position  strategy  \n",
       "Date                                     \n",
       "2017-08-17 04:00:00         1       NaN  \n",
       "2017-08-17 05:00:00         1  0.001505  \n",
       "2017-08-17 06:00:00         1  0.002090  \n",
       "2017-08-17 07:00:00         1  0.005912  \n",
       "2017-08-17 08:00:00         1  0.002457  \n",
       "...                       ...       ...  \n",
       "2021-10-07 05:00:00         1 -0.006146  \n",
       "2021-10-07 06:00:00         1 -0.003690  \n",
       "2021-10-07 07:00:00         1  0.004058  \n",
       "2021-10-07 08:00:00         1 -0.003982  \n",
       "2021-10-07 09:00:00         1 -0.010002  \n",
       "\n",
       "[36168 rows x 12 columns]"
      ]
     },
     "execution_count": 47,
     "metadata": {},
     "output_type": "execute_result"
    }
   ],
   "source": [
    "#Back test strategy \n",
    "data['strategy'] = data.position.shift(1) * data['returns']\n",
    "data"
   ]
  },
  {
   "cell_type": "code",
   "execution_count": 48,
   "metadata": {},
   "outputs": [],
   "source": [
    "data['cstrategy'] = data['strategy'].cumsum().apply(np.exp)"
   ]
  },
  {
   "cell_type": "code",
   "execution_count": 50,
   "metadata": {},
   "outputs": [
    {
     "data": {
      "text/plain": [
       "<AxesSubplot:xlabel='Date'>"
      ]
     },
     "execution_count": 50,
     "metadata": {},
     "output_type": "execute_result"
    },
    {
     "data": {
      "image/png": "[encoded data removed]",
      "text/plain": [
       "<Figure size 864x576 with 1 Axes>"
      ]
     },
     "metadata": {
      "needs_background": "light"
     },
     "output_type": "display_data"
    }
   ],
   "source": [
    "data[['creturns','cstrategy']].plot(figsize =(12,8))"
   ]
  },
  {
   "cell_type": "code",
   "execution_count": 51,
   "metadata": {},
   "outputs": [],
   "source": [
    "tp_year = 24*365.25"
   ]
  },
  {
   "cell_type": "code",
   "execution_count": 54,
   "metadata": {},
   "outputs": [
    {
     "data": {
      "text/plain": [
       "returns     0.615974\n",
       "strategy    0.867801\n",
       "dtype: float64"
      ]
     },
     "execution_count": 54,
     "metadata": {},
     "output_type": "execute_result"
    }
   ],
   "source": [
    "ann_mean = data[['returns','strategy']].mean()*tp_year\n",
    "ann_mean"
   ]
  },
  {
   "cell_type": "code",
   "execution_count": 55,
   "metadata": {},
   "outputs": [
    {
     "data": {
      "text/plain": [
       "returns     0.905397\n",
       "strategy    0.891596\n",
       "dtype: float64"
      ]
     },
     "execution_count": 55,
     "metadata": {},
     "output_type": "execute_result"
    }
   ],
   "source": [
    "ann_std = data[['returns','strategy']].std()*np.sqrt(tp_year)\n",
    "ann_std"
   ]
  },
  {
   "cell_type": "code",
   "execution_count": 56,
   "metadata": {},
   "outputs": [
    {
     "data": {
      "text/plain": [
       "returns     0.940426\n",
       "strategy    1.549656\n",
       "dtype: float64"
      ]
     },
     "execution_count": 56,
     "metadata": {},
     "output_type": "execute_result"
    }
   ],
   "source": [
    "sharpe = (np.exp(ann_mean)-1)/ann_std\n",
    "sharpe"
   ]
  },
  {
   "cell_type": "code",
   "execution_count": 57,
   "metadata": {},
   "outputs": [],
   "source": [
    "data['trades'] = data.position.diff().fillna(0).abs()"
   ]
  },
  {
   "cell_type": "code",
   "execution_count": 58,
   "metadata": {},
   "outputs": [],
   "source": [
    "commissions = 0.00075"
   ]
  },
  {
   "cell_type": "code",
   "execution_count": 59,
   "metadata": {},
   "outputs": [],
   "source": [
    "other = 0.0001"
   ]
  },
  {
   "cell_type": "code",
   "execution_count": 60,
   "metadata": {},
   "outputs": [],
   "source": [
    "ptc = np.log(1-commissions)+np.log(1-other)"
   ]
  },
  {
   "cell_type": "code",
   "execution_count": 61,
   "metadata": {},
   "outputs": [],
   "source": [
    "data['strategy_net'] = data.strategy +data.trades *ptc "
   ]
  },
  {
   "cell_type": "code",
   "execution_count": 62,
   "metadata": {},
   "outputs": [],
   "source": [
    "data['cstrategy_net'] = data.strategy_net.cumsum().apply(np.exp)"
   ]
  },
  {
   "cell_type": "code",
   "execution_count": 63,
   "metadata": {},
   "outputs": [
    {
     "data": {
      "text/html": [
       "<div>\n",
       "<style scoped>\n",
       "    .dataframe tbody tr th:only-of-type {\n",
       "        vertical-align: middle;\n",
       "    }\n",
       "\n",
       "    .dataframe tbody tr th {\n",
       "        vertical-align: top;\n",
       "    }\n",
       "\n",
       "    .dataframe thead th {\n",
       "        text-align: right;\n",
       "    }\n",
       "</style>\n",
       "<table border=\"1\" class=\"dataframe\">\n",
       "  <thead>\n",
       "    <tr style=\"text-align: right;\">\n",
       "      <th></th>\n",
       "      <th>Open</th>\n",
       "      <th>High</th>\n",
       "      <th>Low</th>\n",
       "      <th>Close</th>\n",
       "      <th>Volume</th>\n",
       "      <th>returns</th>\n",
       "      <th>creturns</th>\n",
       "      <th>vol_change</th>\n",
       "      <th>ret_cat</th>\n",
       "      <th>vol_cat</th>\n",
       "      <th>position</th>\n",
       "      <th>strategy</th>\n",
       "      <th>cstrategy</th>\n",
       "      <th>trades</th>\n",
       "      <th>strategy_net</th>\n",
       "      <th>cstrategy_net</th>\n",
       "    </tr>\n",
       "    <tr>\n",
       "      <th>Date</th>\n",
       "      <th></th>\n",
       "      <th></th>\n",
       "      <th></th>\n",
       "      <th></th>\n",
       "      <th></th>\n",
       "      <th></th>\n",
       "      <th></th>\n",
       "      <th></th>\n",
       "      <th></th>\n",
       "      <th></th>\n",
       "      <th></th>\n",
       "      <th></th>\n",
       "      <th></th>\n",
       "      <th></th>\n",
       "      <th></th>\n",
       "      <th></th>\n",
       "    </tr>\n",
       "  </thead>\n",
       "  <tbody>\n",
       "    <tr>\n",
       "      <th>2017-08-17 04:00:00</th>\n",
       "      <td>4261.48</td>\n",
       "      <td>4313.62</td>\n",
       "      <td>4261.32</td>\n",
       "      <td>4308.83</td>\n",
       "      <td>47.181009</td>\n",
       "      <td>NaN</td>\n",
       "      <td>NaN</td>\n",
       "      <td>NaN</td>\n",
       "      <td>NaN</td>\n",
       "      <td>NaN</td>\n",
       "      <td>1</td>\n",
       "      <td>NaN</td>\n",
       "      <td>NaN</td>\n",
       "      <td>0.0</td>\n",
       "      <td>NaN</td>\n",
       "      <td>NaN</td>\n",
       "    </tr>\n",
       "    <tr>\n",
       "      <th>2017-08-17 05:00:00</th>\n",
       "      <td>4308.83</td>\n",
       "      <td>4328.69</td>\n",
       "      <td>4291.37</td>\n",
       "      <td>4315.32</td>\n",
       "      <td>23.234916</td>\n",
       "      <td>0.001505</td>\n",
       "      <td>1.001506</td>\n",
       "      <td>-0.708335</td>\n",
       "      <td>2</td>\n",
       "      <td>-5</td>\n",
       "      <td>1</td>\n",
       "      <td>0.001505</td>\n",
       "      <td>1.001506</td>\n",
       "      <td>0.0</td>\n",
       "      <td>0.001505</td>\n",
       "      <td>1.001506</td>\n",
       "    </tr>\n",
       "    <tr>\n",
       "      <th>2017-08-17 06:00:00</th>\n",
       "      <td>4330.29</td>\n",
       "      <td>4345.45</td>\n",
       "      <td>4309.37</td>\n",
       "      <td>4324.35</td>\n",
       "      <td>7.229691</td>\n",
       "      <td>0.002090</td>\n",
       "      <td>1.003602</td>\n",
       "      <td>-1.167460</td>\n",
       "      <td>2</td>\n",
       "      <td>-5</td>\n",
       "      <td>1</td>\n",
       "      <td>0.002090</td>\n",
       "      <td>1.003602</td>\n",
       "      <td>0.0</td>\n",
       "      <td>0.002090</td>\n",
       "      <td>1.003602</td>\n",
       "    </tr>\n",
       "    <tr>\n",
       "      <th>2017-08-17 07:00:00</th>\n",
       "      <td>4316.62</td>\n",
       "      <td>4349.99</td>\n",
       "      <td>4287.41</td>\n",
       "      <td>4349.99</td>\n",
       "      <td>4.443249</td>\n",
       "      <td>0.005912</td>\n",
       "      <td>1.009552</td>\n",
       "      <td>-0.486810</td>\n",
       "      <td>4</td>\n",
       "      <td>-4</td>\n",
       "      <td>1</td>\n",
       "      <td>0.005912</td>\n",
       "      <td>1.009552</td>\n",
       "      <td>0.0</td>\n",
       "      <td>0.005912</td>\n",
       "      <td>1.009552</td>\n",
       "    </tr>\n",
       "    <tr>\n",
       "      <th>2017-08-17 08:00:00</th>\n",
       "      <td>4333.32</td>\n",
       "      <td>4377.85</td>\n",
       "      <td>4333.32</td>\n",
       "      <td>4360.69</td>\n",
       "      <td>0.972807</td>\n",
       "      <td>0.002457</td>\n",
       "      <td>1.012036</td>\n",
       "      <td>-1.518955</td>\n",
       "      <td>3</td>\n",
       "      <td>-5</td>\n",
       "      <td>1</td>\n",
       "      <td>0.002457</td>\n",
       "      <td>1.012036</td>\n",
       "      <td>0.0</td>\n",
       "      <td>0.002457</td>\n",
       "      <td>1.012036</td>\n",
       "    </tr>\n",
       "    <tr>\n",
       "      <th>...</th>\n",
       "      <td>...</td>\n",
       "      <td>...</td>\n",
       "      <td>...</td>\n",
       "      <td>...</td>\n",
       "      <td>...</td>\n",
       "      <td>...</td>\n",
       "      <td>...</td>\n",
       "      <td>...</td>\n",
       "      <td>...</td>\n",
       "      <td>...</td>\n",
       "      <td>...</td>\n",
       "      <td>...</td>\n",
       "      <td>...</td>\n",
       "      <td>...</td>\n",
       "      <td>...</td>\n",
       "      <td>...</td>\n",
       "    </tr>\n",
       "    <tr>\n",
       "      <th>2021-10-07 05:00:00</th>\n",
       "      <td>55073.20</td>\n",
       "      <td>55073.21</td>\n",
       "      <td>54545.07</td>\n",
       "      <td>54735.76</td>\n",
       "      <td>2251.122020</td>\n",
       "      <td>-0.006146</td>\n",
       "      <td>12.703161</td>\n",
       "      <td>0.439863</td>\n",
       "      <td>-4</td>\n",
       "      <td>4</td>\n",
       "      <td>1</td>\n",
       "      <td>-0.006146</td>\n",
       "      <td>36.318564</td>\n",
       "      <td>0.0</td>\n",
       "      <td>-0.006146</td>\n",
       "      <td>19.774125</td>\n",
       "    </tr>\n",
       "    <tr>\n",
       "      <th>2021-10-07 06:00:00</th>\n",
       "      <td>54735.77</td>\n",
       "      <td>54968.06</td>\n",
       "      <td>54375.83</td>\n",
       "      <td>54534.16</td>\n",
       "      <td>1783.004260</td>\n",
       "      <td>-0.003690</td>\n",
       "      <td>12.656373</td>\n",
       "      <td>-0.233129</td>\n",
       "      <td>-3</td>\n",
       "      <td>-2</td>\n",
       "      <td>1</td>\n",
       "      <td>-0.003690</td>\n",
       "      <td>36.184797</td>\n",
       "      <td>0.0</td>\n",
       "      <td>-0.003690</td>\n",
       "      <td>19.701293</td>\n",
       "    </tr>\n",
       "    <tr>\n",
       "      <th>2021-10-07 07:00:00</th>\n",
       "      <td>54534.16</td>\n",
       "      <td>54793.26</td>\n",
       "      <td>54235.33</td>\n",
       "      <td>54755.92</td>\n",
       "      <td>4163.431360</td>\n",
       "      <td>0.004058</td>\n",
       "      <td>12.707839</td>\n",
       "      <td>0.848040</td>\n",
       "      <td>3</td>\n",
       "      <td>5</td>\n",
       "      <td>1</td>\n",
       "      <td>0.004058</td>\n",
       "      <td>36.331940</td>\n",
       "      <td>0.0</td>\n",
       "      <td>0.004058</td>\n",
       "      <td>19.781408</td>\n",
       "    </tr>\n",
       "    <tr>\n",
       "      <th>2021-10-07 08:00:00</th>\n",
       "      <td>54755.91</td>\n",
       "      <td>54778.91</td>\n",
       "      <td>54400.00</td>\n",
       "      <td>54538.30</td>\n",
       "      <td>2049.382180</td>\n",
       "      <td>-0.003982</td>\n",
       "      <td>12.657334</td>\n",
       "      <td>-0.708801</td>\n",
       "      <td>-3</td>\n",
       "      <td>-5</td>\n",
       "      <td>1</td>\n",
       "      <td>-0.003982</td>\n",
       "      <td>36.187544</td>\n",
       "      <td>0.0</td>\n",
       "      <td>-0.003982</td>\n",
       "      <td>19.702789</td>\n",
       "    </tr>\n",
       "    <tr>\n",
       "      <th>2021-10-07 09:00:00</th>\n",
       "      <td>54538.31</td>\n",
       "      <td>54547.30</td>\n",
       "      <td>53786.13</td>\n",
       "      <td>53995.50</td>\n",
       "      <td>2739.153610</td>\n",
       "      <td>-0.010002</td>\n",
       "      <td>12.531360</td>\n",
       "      <td>0.290111</td>\n",
       "      <td>-5</td>\n",
       "      <td>3</td>\n",
       "      <td>1</td>\n",
       "      <td>-0.010002</td>\n",
       "      <td>35.827383</td>\n",
       "      <td>0.0</td>\n",
       "      <td>-0.010002</td>\n",
       "      <td>19.506694</td>\n",
       "    </tr>\n",
       "  </tbody>\n",
       "</table>\n",
       "<p>36168 rows × 16 columns</p>\n",
       "</div>"
      ],
      "text/plain": [
       "                         Open      High       Low     Close       Volume  \\\n",
       "Date                                                                       \n",
       "2017-08-17 04:00:00   4261.48   4313.62   4261.32   4308.83    47.181009   \n",
       "2017-08-17 05:00:00   4308.83   4328.69   4291.37   4315.32    23.234916   \n",
       "2017-08-17 06:00:00   4330.29   4345.45   4309.37   4324.35     7.229691   \n",
       "2017-08-17 07:00:00   4316.62   4349.99   4287.41   4349.99     4.443249   \n",
       "2017-08-17 08:00:00   4333.32   4377.85   4333.32   4360.69     0.972807   \n",
       "...                       ...       ...       ...       ...          ...   \n",
       "2021-10-07 05:00:00  55073.20  55073.21  54545.07  54735.76  2251.122020   \n",
       "2021-10-07 06:00:00  54735.77  54968.06  54375.83  54534.16  1783.004260   \n",
       "2021-10-07 07:00:00  54534.16  54793.26  54235.33  54755.92  4163.431360   \n",
       "2021-10-07 08:00:00  54755.91  54778.91  54400.00  54538.30  2049.382180   \n",
       "2021-10-07 09:00:00  54538.31  54547.30  53786.13  53995.50  2739.153610   \n",
       "\n",
       "                      returns   creturns  vol_change ret_cat vol_cat  \\\n",
       "Date                                                                   \n",
       "2017-08-17 04:00:00       NaN        NaN         NaN     NaN     NaN   \n",
       "2017-08-17 05:00:00  0.001505   1.001506   -0.708335       2      -5   \n",
       "2017-08-17 06:00:00  0.002090   1.003602   -1.167460       2      -5   \n",
       "2017-08-17 07:00:00  0.005912   1.009552   -0.486810       4      -4   \n",
       "2017-08-17 08:00:00  0.002457   1.012036   -1.518955       3      -5   \n",
       "...                       ...        ...         ...     ...     ...   \n",
       "2021-10-07 05:00:00 -0.006146  12.703161    0.439863      -4       4   \n",
       "2021-10-07 06:00:00 -0.003690  12.656373   -0.233129      -3      -2   \n",
       "2021-10-07 07:00:00  0.004058  12.707839    0.848040       3       5   \n",
       "2021-10-07 08:00:00 -0.003982  12.657334   -0.708801      -3      -5   \n",
       "2021-10-07 09:00:00 -0.010002  12.531360    0.290111      -5       3   \n",
       "\n",
       "                     position  strategy  cstrategy  trades  strategy_net  \\\n",
       "Date                                                                       \n",
       "2017-08-17 04:00:00         1       NaN        NaN     0.0           NaN   \n",
       "2017-08-17 05:00:00         1  0.001505   1.001506     0.0      0.001505   \n",
       "2017-08-17 06:00:00         1  0.002090   1.003602     0.0      0.002090   \n",
       "2017-08-17 07:00:00         1  0.005912   1.009552     0.0      0.005912   \n",
       "2017-08-17 08:00:00         1  0.002457   1.012036     0.0      0.002457   \n",
       "...                       ...       ...        ...     ...           ...   \n",
       "2021-10-07 05:00:00         1 -0.006146  36.318564     0.0     -0.006146   \n",
       "2021-10-07 06:00:00         1 -0.003690  36.184797     0.0     -0.003690   \n",
       "2021-10-07 07:00:00         1  0.004058  36.331940     0.0      0.004058   \n",
       "2021-10-07 08:00:00         1 -0.003982  36.187544     0.0     -0.003982   \n",
       "2021-10-07 09:00:00         1 -0.010002  35.827383     0.0     -0.010002   \n",
       "\n",
       "                     cstrategy_net  \n",
       "Date                                \n",
       "2017-08-17 04:00:00            NaN  \n",
       "2017-08-17 05:00:00       1.001506  \n",
       "2017-08-17 06:00:00       1.003602  \n",
       "2017-08-17 07:00:00       1.009552  \n",
       "2017-08-17 08:00:00       1.012036  \n",
       "...                            ...  \n",
       "2021-10-07 05:00:00      19.774125  \n",
       "2021-10-07 06:00:00      19.701293  \n",
       "2021-10-07 07:00:00      19.781408  \n",
       "2021-10-07 08:00:00      19.702789  \n",
       "2021-10-07 09:00:00      19.506694  \n",
       "\n",
       "[36168 rows x 16 columns]"
      ]
     },
     "execution_count": 63,
     "metadata": {},
     "output_type": "execute_result"
    }
   ],
   "source": [
    "data"
   ]
  },
  {
   "cell_type": "code",
   "execution_count": 64,
   "metadata": {},
   "outputs": [
    {
     "data": {
      "text/plain": [
       "<AxesSubplot:xlabel='Date'>"
      ]
     },
     "execution_count": 64,
     "metadata": {},
     "output_type": "execute_result"
    },
    {
     "data": {
      "image/png": "[encoded data removed]",
      "text/plain": [
       "<Figure size 864x576 with 1 Axes>"
      ]
     },
     "metadata": {
      "needs_background": "light"
     },
     "output_type": "display_data"
    }
   ],
   "source": [
    "data[['creturns','cstrategy','cstrategy_net']].plot(figsize=(12,8))"
   ]
  }
 ],
 "metadata": {
  "interpreter": {
   "hash": "39d544fcf8fb7bb3a7a7605ff60c17983bd4bf20c95ee68ab83c2be7ce493e84"
  },
  "kernelspec": {
   "display_name": "Python 3.8.1 64-bit",
   "language": "python",
   "name": "python3"
  },
  "language_info": {
   "codemirror_mode": {
    "name": "ipython",
    "version": 3
   },
   "file_extension": ".py",
   "mimetype": "text/x-python",
   "name": "python",
   "nbconvert_exporter": "python",
   "pygments_lexer": "ipython3",
   "version": "3.8.1"
  },
  "orig_nbformat": 4
 },
 "nbformat": 4,
 "nbformat_minor": 2
}
